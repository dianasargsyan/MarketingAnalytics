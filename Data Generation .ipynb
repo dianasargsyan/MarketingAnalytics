{
 "cells": [
  {
   "cell_type": "code",
   "execution_count": 1,
   "metadata": {
    "id": "YJYIe5oclbBy"
   },
   "outputs": [],
   "source": [
    "feature_names = [\"userid\",\"group\",\"playminutes\",\"day1\",\"day7\"]"
   ]
  },
  {
   "cell_type": "code",
   "execution_count": 9,
   "metadata": {
    "id": "jZzEiRJflcUn"
   },
   "outputs": [],
   "source": [
    "import numpy as np\n",
    "import pandas as pd\n",
    "it = 0\n",
    "feature_names = [\"userid\",\"group\",\"playminutes\",\"day\",\"day7\",\"cost\",\"gain\"]\n",
    "def Generate_Sample_Data(datanumbs, mincost,maxcost,gain,version,):\n",
    "    global it\n",
    "    data = np.array([1000*it + np.arange(datanumbs)+1,\n",
    "                     [version]*datanumbs,\n",
    "                     np.random.random(size =(datanumbs),) * 100 ,\n",
    "                     np.random.randint(2,size = datanumbs),\n",
    "                     np.random.randint(2,size = datanumbs),\n",
    "                     [np.random.randint(mincost,maxcost)]*datanumbs,\n",
    "                     [gain] * datanumbs\n",
    "                     ]).T\n",
    "    it+=1\n",
    "    return data\n",
    "\n",
    "def datacreate(num_of_datapoints,mincost,maxcost,gain,feature_names,version):\n",
    "    return pd.DataFrame(\n",
    "    data = Generate_Sample_Data(num_of_datapoints,mincost,maxcost,gain,version = version),\n",
    " \n",
    "    columns= feature_names)\n",
    "    \n",
    "    \n",
    "def datagen(groupnums,num_of_datapoints,mincost,maxcost,gain, feature_names):\n",
    "    control_group = datacreate(num_of_datapoints,mincost,maxcost,gain,feature_names,\"control\")\n",
    "    treatment_group = [datacreate(num_of_datapoints,\n",
    "                                     mincost,maxcost,gain,feature_names,\"treatment_\"+str(i+1)) for i in range(groupnums)]\n",
    "    data = pd.concat([control_group,pd.concat(treatment_group)])\n",
    "    \n",
    "    for each in data.columns:\n",
    "        if each == 'userid':\n",
    "            data[each] = np.int64(data[each])\n",
    "        elif each!='group':\n",
    "            data[each]=np.float64(data[each])\n",
    "    return data\n",
    "\n",
    "def generate_treatment_results(groupnums,num_of_datapoints,mincost,maxcost,gain, feature_names):\n",
    "    return np.array([np.random.randint(2,size = num_of_datapoints) for i in range(groupnums)])"
   ]
  },
  {
   "cell_type": "code",
   "execution_count": 10,
   "metadata": {
    "id": "qGPAjzmXjG88"
   },
   "outputs": [
    {
     "name": "stdout",
     "output_type": "stream",
     "text": [
      "Input number of groups5\n",
      "Input number of datapoint per group500\n",
      "minimum cost7\n",
      "maximum cost8\n",
      "gain3\n"
     ]
    }
   ],
   "source": [
    "groupnums = int(input(\"Input number of groups\"))\n",
    "num_of_datapoints =  int(input(\"Input number of datapoint per group\"))\n",
    "mincost = int(input(\"minimum cost\"))\n",
    "maxcost = int(input(\"maximum cost\"))\n",
    "gain = int(input(\"gain\"))\n",
    "\n",
    "data = datagen(groupnums,num_of_datapoints,mincost,maxcost,gain,feature_names) \n",
    "results = generate_treatment_results(groupnums,num_of_datapoints,mincost,maxcost,gain,feature_names) "
   ]
  },
  {
   "cell_type": "code",
   "execution_count": 11,
   "metadata": {
    "colab": {
     "base_uri": "https://localhost:8080/"
    },
    "id": "v_nXAJwtjHuF",
    "outputId": "08d924a7-ac23-4e70-e018-032a9f8adfdb"
   },
   "outputs": [
    {
     "data": {
      "text/plain": [
       "(   userid    group  playminutes  day  day7  cost  gain\n",
       " 0       1  control     1.200403  0.0   1.0   7.0   3.0\n",
       " 1       2  control    83.415682  1.0   0.0   7.0   3.0\n",
       " 2       3  control     0.422667  0.0   1.0   7.0   3.0\n",
       " 3       4  control    38.755779  0.0   0.0   7.0   3.0\n",
       " 4       5  control    62.600845  1.0   0.0   7.0   3.0,\n",
       "      userid        group  playminutes  day  day7  cost  gain\n",
       " 495    5496  treatment_5    98.877223  1.0   0.0   7.0   3.0\n",
       " 496    5497  treatment_5    36.952719  1.0   1.0   7.0   3.0\n",
       " 497    5498  treatment_5    22.249305  1.0   1.0   7.0   3.0\n",
       " 498    5499  treatment_5     4.374930  1.0   1.0   7.0   3.0\n",
       " 499    5500  treatment_5    91.807447  0.0   1.0   7.0   3.0)"
      ]
     },
     "execution_count": 11,
     "metadata": {},
     "output_type": "execute_result"
    }
   ],
   "source": [
    "data.head(),data.tail()"
   ]
  },
  {
   "cell_type": "code",
   "execution_count": 12,
   "metadata": {
    "id": "Fi4oy6kMtD_g"
   },
   "outputs": [],
   "source": [
    "data.to_csv(\"test1\")"
   ]
  }
 ],
 "metadata": {
  "colab": {
   "collapsed_sections": [],
   "name": "DataGeneration.ipynb",
   "provenance": []
  },
  "interpreter": {
   "hash": "36cf16204b8548560b1c020c4e8fb5b57f0e4c58016f52f2d4be01e192833930"
  },
  "kernelspec": {
   "display_name": "Python 3 (ipykernel)",
   "language": "python",
   "name": "python3"
  },
  "language_info": {
   "codemirror_mode": {
    "name": "ipython",
    "version": 3
   },
   "file_extension": ".py",
   "mimetype": "text/x-python",
   "name": "python",
   "nbconvert_exporter": "python",
   "pygments_lexer": "ipython3",
   "version": "3.8.5"
  }
 },
 "nbformat": 4,
 "nbformat_minor": 1
}
