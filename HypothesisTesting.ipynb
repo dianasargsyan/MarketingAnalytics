{
 "cells": [
  {
   "cell_type": "markdown",
   "id": "09949b49",
   "metadata": {},
   "source": [
    "### Hypothesis Testing"
   ]
  },
  {
   "cell_type": "code",
   "execution_count": 1,
   "id": "bb38e730",
   "metadata": {},
   "outputs": [],
   "source": [
    "import numpy as np\n",
    "import pandas as pd\n",
    "import math\n",
    "from statsmodels.stats.power import TTestIndPower\n",
    "from scipy.stats import ttest_ind\n",
    "import matplotlib.pyplot as plt"
   ]
  },
  {
   "cell_type": "markdown",
   "id": "959c4645",
   "metadata": {},
   "source": [
    "Determing Sample size for each group. "
   ]
  },
  {
   "cell_type": "code",
   "execution_count": 2,
   "id": "4aab0e98",
   "metadata": {},
   "outputs": [
    {
     "data": {
      "text/plain": [
       "93.49757069062551"
      ]
     },
     "execution_count": 2,
     "metadata": {},
     "output_type": "execute_result"
    }
   ],
   "source": [
    "TTestIndPower().solve_power(effect_size = 0.365, power = 0.8,\n",
    "alpha = 0.05, alternative = 'larger')"
   ]
  },
  {
   "cell_type": "code",
   "execution_count": 3,
   "id": "8e72bb0f",
   "metadata": {},
   "outputs": [
    {
     "data": {
      "text/html": [
       "<div>\n",
       "<style scoped>\n",
       "    .dataframe tbody tr th:only-of-type {\n",
       "        vertical-align: middle;\n",
       "    }\n",
       "\n",
       "    .dataframe tbody tr th {\n",
       "        vertical-align: top;\n",
       "    }\n",
       "\n",
       "    .dataframe thead th {\n",
       "        text-align: right;\n",
       "    }\n",
       "</style>\n",
       "<table border=\"1\" class=\"dataframe\">\n",
       "  <thead>\n",
       "    <tr style=\"text-align: right;\">\n",
       "      <th></th>\n",
       "      <th>user_id</th>\n",
       "      <th>viewing_time</th>\n",
       "      <th>Group</th>\n",
       "    </tr>\n",
       "  </thead>\n",
       "  <tbody>\n",
       "    <tr>\n",
       "      <th>0</th>\n",
       "      <td>4b5630ee914e848e8d07221556b0a2fb</td>\n",
       "      <td>38.354937</td>\n",
       "      <td>control</td>\n",
       "    </tr>\n",
       "    <tr>\n",
       "      <th>1</th>\n",
       "      <td>c01f179e4b57ab8bd9de309e6d576c48</td>\n",
       "      <td>49.534278</td>\n",
       "      <td>control</td>\n",
       "    </tr>\n",
       "    <tr>\n",
       "      <th>2</th>\n",
       "      <td>11946e7a3ed5e1776e81c0f0ecd383d0</td>\n",
       "      <td>35.468325</td>\n",
       "      <td>control</td>\n",
       "    </tr>\n",
       "    <tr>\n",
       "      <th>3</th>\n",
       "      <td>234a2a5581872457b9fe1187d1616b13</td>\n",
       "      <td>69.014875</td>\n",
       "      <td>control</td>\n",
       "    </tr>\n",
       "    <tr>\n",
       "      <th>4</th>\n",
       "      <td>dd4ad37ee474732a009111e3456e7ed7</td>\n",
       "      <td>51.547207</td>\n",
       "      <td>control</td>\n",
       "    </tr>\n",
       "  </tbody>\n",
       "</table>\n",
       "</div>"
      ],
      "text/plain": [
       "                            user_id  viewing_time    Group\n",
       "0  4b5630ee914e848e8d07221556b0a2fb     38.354937  control\n",
       "1  c01f179e4b57ab8bd9de309e6d576c48     49.534278  control\n",
       "2  11946e7a3ed5e1776e81c0f0ecd383d0     35.468325  control\n",
       "3  234a2a5581872457b9fe1187d1616b13     69.014875  control\n",
       "4  dd4ad37ee474732a009111e3456e7ed7     51.547207  control"
      ]
     },
     "execution_count": 3,
     "metadata": {},
     "output_type": "execute_result"
    }
   ],
   "source": [
    "expr = pd.read_csv('data/experiment.csv')\n",
    "expr.head()"
   ]
  },
  {
   "cell_type": "code",
   "execution_count": 4,
   "id": "316a3118",
   "metadata": {},
   "outputs": [
    {
     "data": {
      "text/plain": [
       "Group\n",
       "control      48.386186\n",
       "treatment    52.081302\n",
       "Name: viewing_time, dtype: float64"
      ]
     },
     "execution_count": 4,
     "metadata": {},
     "output_type": "execute_result"
    }
   ],
   "source": [
    "expr.groupby('Group')['viewing_time'].mean()"
   ]
  },
  {
   "cell_type": "code",
   "execution_count": 5,
   "id": "fc3fa1d8",
   "metadata": {},
   "outputs": [],
   "source": [
    "ctrl = expr[expr['Group'] == 'control']['viewing_time']\n",
    "treatment = expr[expr['Group'] == 'treatment']['viewing_time']"
   ]
  },
  {
   "cell_type": "code",
   "execution_count": 6,
   "id": "12ff7b6f",
   "metadata": {},
   "outputs": [
    {
     "data": {
      "text/plain": [
       "Ttest_indResult(statistic=1.6001630656502437, pvalue=0.11278139857351256)"
      ]
     },
     "execution_count": 6,
     "metadata": {},
     "output_type": "execute_result"
    }
   ],
   "source": [
    "test_res = ttest_ind(treatment, ctrl)\n",
    "test_res"
   ]
  },
  {
   "cell_type": "markdown",
   "id": "62ec36a8",
   "metadata": {},
   "source": [
    "P-value for one tailed test."
   ]
  },
  {
   "cell_type": "code",
   "execution_count": 7,
   "id": "1b2ee628",
   "metadata": {},
   "outputs": [
    {
     "data": {
      "text/plain": [
       "0.11278139857351256"
      ]
     },
     "execution_count": 7,
     "metadata": {},
     "output_type": "execute_result"
    }
   ],
   "source": [
    "test_res.pvalue"
   ]
  },
  {
   "cell_type": "markdown",
   "id": "7e88f7d5",
   "metadata": {},
   "source": [
    "We fail to reject H0 where alpha = 0.05. "
   ]
  },
  {
   "cell_type": "code",
   "execution_count": 8,
   "id": "cabac219",
   "metadata": {},
   "outputs": [],
   "source": [
    "diff=treatment.mean() - ctrl.mean()\n",
    "sd_pooled=math.sqrt((treatment.std()**2+ ctrl.std()**2)/2)"
   ]
  },
  {
   "cell_type": "code",
   "execution_count": 9,
   "id": "3e297e46",
   "metadata": {},
   "outputs": [
    {
     "name": "stdout",
     "output_type": "stream",
     "text": [
      "The detected Effect: 0.3200326131300469\n"
     ]
    }
   ],
   "source": [
    "print(\"The detected Effect: {}\".format(diff/sd_pooled))"
   ]
  }
 ],
 "metadata": {
  "kernelspec": {
   "display_name": "Python 3 (ipykernel)",
   "language": "python",
   "name": "python3"
  },
  "language_info": {
   "codemirror_mode": {
    "name": "ipython",
    "version": 3
   },
   "file_extension": ".py",
   "mimetype": "text/x-python",
   "name": "python",
   "nbconvert_exporter": "python",
   "pygments_lexer": "ipython3",
   "version": "3.9.13"
  }
 },
 "nbformat": 4,
 "nbformat_minor": 5
}
